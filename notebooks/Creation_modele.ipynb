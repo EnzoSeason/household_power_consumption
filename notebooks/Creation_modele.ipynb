{
 "cells": [
  {
   "cell_type": "code",
   "execution_count": 1,
   "metadata": {
    "ExecuteTime": {
     "end_time": "2019-11-25T22:30:56.959335Z",
     "start_time": "2019-11-25T22:30:56.465751Z"
    }
   },
   "outputs": [],
   "source": [
    "import numpy as np\n",
    "import pandas as pd "
   ]
  },
  {
   "cell_type": "markdown",
   "metadata": {},
   "source": [
    "# Objectif\n",
    "\n",
    "Je veux créer un modèle de Machine Learning à predire la consommation électrique prévue pour la semaine à venir."
   ]
  },
  {
   "cell_type": "markdown",
   "metadata": {},
   "source": [
    "# charger les données"
   ]
  },
  {
   "cell_type": "code",
   "execution_count": 2,
   "metadata": {
    "ExecuteTime": {
     "end_time": "2019-11-25T22:36:50.927399Z",
     "start_time": "2019-11-25T22:36:50.894209Z"
    }
   },
   "outputs": [],
   "source": [
    "day_df = pd.read_csv('../data/output/day_cleaned_household_power_consumption.csv', header=0, \n",
    "                    infer_datetime_format=True, parse_dates=['datetime'], index_col=['datetime'])"
   ]
  },
  {
   "cell_type": "markdown",
   "metadata": {},
   "source": [
    "# diviser un ensemble de données en ensembles train / test\n",
    "\n",
    "Je vais utiliser les données des trois premières années pour l'entrainement du modèle et la dernière année pour l'évaluation du modèle.\n",
    "\n",
    "Les données d'un ensemble de données seront divisées en semaines. Ce sont des semaines qui commencent un dimanche et se terminent un samedi. Donc, pour l'ensemble de train, il y a 159 semaines, et l'ensemble de test a 46 semaines."
   ]
  },
  {
   "cell_type": "code",
   "execution_count": 9,
   "metadata": {
    "ExecuteTime": {
     "end_time": "2019-11-25T22:59:18.198855Z",
     "start_time": "2019-11-25T22:59:18.191062Z"
    }
   },
   "outputs": [],
   "source": [
    "def train_test_diviser(values):\n",
    "    '''\n",
    "    diviser un ensemble de données en ensembles train / test par années\n",
    "    divisées tout les données en semaines\n",
    "    \n",
    "    Parameters:\n",
    "    -- values - un np.array avec 2 dimensions\n",
    "    '''\n",
    "    # divisées par années\n",
    "    train, test = values[1:-328], values[-328:-6]\n",
    "    # divisées en semaines\n",
    "    train = np.array(np.split(train, len(train)/7))\n",
    "    test = np.array(np.split(test, len(test)/7))\n",
    "    return train, test"
   ]
  },
  {
   "cell_type": "code",
   "execution_count": 10,
   "metadata": {
    "ExecuteTime": {
     "end_time": "2019-11-25T22:59:19.400562Z",
     "start_time": "2019-11-25T22:59:19.392566Z"
    }
   },
   "outputs": [],
   "source": [
    "train, test = train_test_diviser(day_df.values)"
   ]
  },
  {
   "cell_type": "code",
   "execution_count": null,
   "metadata": {},
   "outputs": [],
   "source": []
  }
 ],
 "metadata": {
  "kernelspec": {
   "display_name": "Python 3",
   "language": "python",
   "name": "python3"
  },
  "language_info": {
   "codemirror_mode": {
    "name": "ipython",
    "version": 3
   },
   "file_extension": ".py",
   "mimetype": "text/x-python",
   "name": "python",
   "nbconvert_exporter": "python",
   "pygments_lexer": "ipython3",
   "version": "3.7.3"
  },
  "toc": {
   "base_numbering": 1,
   "nav_menu": {},
   "number_sections": true,
   "sideBar": true,
   "skip_h1_title": false,
   "title_cell": "Table of Contents",
   "title_sidebar": "Contents",
   "toc_cell": false,
   "toc_position": {},
   "toc_section_display": true,
   "toc_window_display": true
  },
  "varInspector": {
   "cols": {
    "lenName": 16,
    "lenType": 16,
    "lenVar": 40
   },
   "kernels_config": {
    "python": {
     "delete_cmd_postfix": "",
     "delete_cmd_prefix": "del ",
     "library": "var_list.py",
     "varRefreshCmd": "print(var_dic_list())"
    },
    "r": {
     "delete_cmd_postfix": ") ",
     "delete_cmd_prefix": "rm(",
     "library": "var_list.r",
     "varRefreshCmd": "cat(var_dic_list()) "
    }
   },
   "position": {
    "height": "210px",
    "left": "1566px",
    "right": "20px",
    "top": "120px",
    "width": "334px"
   },
   "types_to_exclude": [
    "module",
    "function",
    "builtin_function_or_method",
    "instance",
    "_Feature"
   ],
   "window_display": true
  }
 },
 "nbformat": 4,
 "nbformat_minor": 2
}
